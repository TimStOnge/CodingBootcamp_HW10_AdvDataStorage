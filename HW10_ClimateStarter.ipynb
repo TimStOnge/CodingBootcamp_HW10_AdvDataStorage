{
 "cells": [
  {
   "cell_type": "markdown",
   "metadata": {},
   "source": [
    "# PyCitySchools Analysis - Surfs Up!\n",
    "\n",
    "By Tim St. Onge\n"
   ]
  },
  {
   "cell_type": "code",
   "execution_count": 1,
   "metadata": {},
   "outputs": [],
   "source": [
    "%matplotlib inline\n",
    "from matplotlib import style\n",
    "style.use('fivethirtyeight')\n",
    "import matplotlib.pyplot as plt"
   ]
  },
  {
   "cell_type": "code",
   "execution_count": 2,
   "metadata": {},
   "outputs": [],
   "source": [
    "import numpy as np\n",
    "import pandas as pd"
   ]
  },
  {
   "cell_type": "code",
   "execution_count": 3,
   "metadata": {},
   "outputs": [],
   "source": [
    "import datetime as dt\n",
    "from datetime import timedelta, datetime\n",
    "import re"
   ]
  },
  {
   "cell_type": "markdown",
   "metadata": {},
   "source": [
    "## Reflect Tables into SQLAlchemy ORM"
   ]
  },
  {
   "cell_type": "code",
   "execution_count": 4,
   "metadata": {},
   "outputs": [],
   "source": [
    "# Python SQL toolkit and Object Relational Mapper\n",
    "import sqlalchemy\n",
    "from sqlalchemy.ext.automap import automap_base\n",
    "from sqlalchemy.orm import Session\n",
    "from sqlalchemy import create_engine, func, inspect"
   ]
  },
  {
   "cell_type": "code",
   "execution_count": 5,
   "metadata": {},
   "outputs": [],
   "source": [
    "engine = create_engine(\"sqlite:///Resources/hawaii.sqlite\")"
   ]
  },
  {
   "cell_type": "code",
   "execution_count": 6,
   "metadata": {},
   "outputs": [],
   "source": [
    "# reflect an existing database into a new model\n",
    "Base = automap_base()\n",
    "# reflect the tables\n",
    "Base.prepare(engine, reflect=True)"
   ]
  },
  {
   "cell_type": "code",
   "execution_count": 7,
   "metadata": {},
   "outputs": [
    {
     "data": {
      "text/plain": [
       "['measurement', 'station']"
      ]
     },
     "execution_count": 7,
     "metadata": {},
     "output_type": "execute_result"
    }
   ],
   "source": [
    "# We can view all of the classes that automap found\n",
    "Base.classes.keys()"
   ]
  },
  {
   "cell_type": "code",
   "execution_count": 8,
   "metadata": {},
   "outputs": [],
   "source": [
    "# Save references to each table\n",
    "Measurement = Base.classes.measurement\n",
    "Station = Base.classes.station"
   ]
  },
  {
   "cell_type": "code",
   "execution_count": 9,
   "metadata": {},
   "outputs": [],
   "source": [
    "# Create our session (link) from Python to the DB\n",
    "session = Session(engine)"
   ]
  },
  {
   "cell_type": "markdown",
   "metadata": {},
   "source": [
    "## Exploratory Climate Analysis"
   ]
  },
  {
   "cell_type": "code",
   "execution_count": 10,
   "metadata": {},
   "outputs": [],
   "source": [
    "# The first task in the homework is to find the date from a year ago today so that we can query the database...\n",
    "#...for the past year's weather data.\n",
    "\n",
    "currentDT = dt.datetime.now()\n",
    "today_date = currentDT.date()\n",
    "d = today_date - timedelta(days=365)\n",
    "\n",
    "# However, since there are no data points in the past year, we instead will analyze the most recent 12 months...\n",
    "#...of data in the database for this analysis."
   ]
  },
  {
   "cell_type": "code",
   "execution_count": 11,
   "metadata": {},
   "outputs": [],
   "source": [
    "# First, a database connection is established and then all of the data from the Measurement and Station...\n",
    "#...tables in the SQLite database are read into dataframes:\n",
    "conn = engine.connect()\n",
    "measurements_df = pd.read_sql(\"SELECT * FROM measurement\", conn)\n",
    "stations_df = pd.read_sql(\"SELECT * FROM station\", conn)"
   ]
  },
  {
   "cell_type": "markdown",
   "metadata": {},
   "source": [
    "### Precipitation Analysis"
   ]
  },
  {
   "cell_type": "code",
   "execution_count": 12,
   "metadata": {},
   "outputs": [
    {
     "data": {
      "text/plain": [
       "datetime.datetime(2016, 8, 23, 0, 0)"
      ]
     },
     "execution_count": 12,
     "metadata": {},
     "output_type": "execute_result"
    }
   ],
   "source": [
    "# The precipitation analysis will first require use of the Measurements dataframe. The steps immediately below...\n",
    "#...are designed to find the latest date in the dataset and the date one year before that latest date. Because...\n",
    "#...the \"date\" information is stored as string in the dataframe, we also need to convert the column to \"datetime\"...\n",
    "#...format.\n",
    "\n",
    "# In a copied dataframe, sort the Measurements data by \"date\" in descending order and then select the first...\n",
    "#...date value in that sorted list.\n",
    "precip_df = measurements_df.sort_values('date', ascending=False)\n",
    "last_date = precip_df['date'].iloc[0]\n",
    "\n",
    "# Convert the stored latest date from string to datetime.\n",
    "last_date_datetime = datetime.strptime(last_date, '%Y-%m-%d')\n",
    "\n",
    "# Now that the latest year in the dataframe is in datetime, calculate that date minus 365 days (using timedelta).\n",
    "last_yr_of_data = last_date_datetime - timedelta(days=365)\n",
    "last_yr_of_data"
   ]
  },
  {
   "cell_type": "code",
   "execution_count": 13,
   "metadata": {},
   "outputs": [],
   "source": [
    "# The next step is to convert the entire \"date\" field on the copy of the Measurements dataframe to datetime. Then,\n",
    "#...the \"date\" column will filtered by the \"last_yr_of_data\" so that only the last year's worth of data is collected.\n",
    "# Finally, the \"date\" and \"prcp\" columns of the dataframe are extracted into lists to be prepared for graphing.\n",
    "\n",
    "# Convert the \"Date\" column to datetime type with proper formatting and test the result.\n",
    "precip_df['date'] = pd.to_datetime(precip_df['date'], format='%Y-%m-%d')\n",
    "precip_df.dtypes\n",
    "\n",
    "# Filter from the dataframe all records where the \"date\" is after the {last_yr_of_data} variable (which indicates...\n",
    "# ...one year before the end of the dataset).\n",
    "precip_lastyr_df = precip_df[(precip_df['date'] >= last_yr_of_data)]\n",
    "\n",
    "# Convert the data in the \"date\" and \"prcp\" dataframe columns into respective lists.\n",
    "all_dates = precip_lastyr_df['date'].tolist()\n",
    "all_precip = precip_lastyr_df['prcp'].tolist()"
   ]
  },
  {
   "cell_type": "code",
   "execution_count": 40,
   "metadata": {},
   "outputs": [
    {
     "data": {
      "image/png": "[encoded data removed]",
      "text/plain": [
       "<Figure size 432x288 with 1 Axes>"
      ]
     },
     "metadata": {
      "needs_background": "light"
     },
     "output_type": "display_data"
    }
   ],
   "source": [
    "# This section plots the two lists to show a line graph of precipitation variation over time.\n",
    "\n",
    "# Plot the two lists (x-value, y-value)\n",
    "plt.plot(all_dates,all_precip)\n",
    "\n",
    "# Incorporate the other graph properties\n",
    "label=\"Precipitation\"\n",
    "plt.legend(label, loc=9)\n",
    "plt.xlabel(\"Date\")\n",
    "plt.grid(True)\n",
    "\n",
    "\n",
    "# Show plot\n",
    "plt.show()"
   ]
  },
  {
   "cell_type": "code",
   "execution_count": 15,
   "metadata": {},
   "outputs": [
    {
     "data": {
      "text/html": [
       "<div>\n",
       "<style scoped>\n",
       "    .dataframe tbody tr th:only-of-type {\n",
       "        vertical-align: middle;\n",
       "    }\n",
       "\n",
       "    .dataframe tbody tr th {\n",
       "        vertical-align: top;\n",
       "    }\n",
       "\n",
       "    .dataframe thead th {\n",
       "        text-align: right;\n",
       "    }\n",
       "</style>\n",
       "<table border=\"1\" class=\"dataframe\">\n",
       "  <thead>\n",
       "    <tr style=\"text-align: right;\">\n",
       "      <th></th>\n",
       "      <th>Precipitation</th>\n",
       "    </tr>\n",
       "  </thead>\n",
       "  <tbody>\n",
       "    <tr>\n",
       "      <th>count</th>\n",
       "      <td>2021.000000</td>\n",
       "    </tr>\n",
       "    <tr>\n",
       "      <th>mean</th>\n",
       "      <td>0.177279</td>\n",
       "    </tr>\n",
       "    <tr>\n",
       "      <th>std</th>\n",
       "      <td>0.461190</td>\n",
       "    </tr>\n",
       "    <tr>\n",
       "      <th>min</th>\n",
       "      <td>0.000000</td>\n",
       "    </tr>\n",
       "    <tr>\n",
       "      <th>25%</th>\n",
       "      <td>0.000000</td>\n",
       "    </tr>\n",
       "    <tr>\n",
       "      <th>50%</th>\n",
       "      <td>0.020000</td>\n",
       "    </tr>\n",
       "    <tr>\n",
       "      <th>75%</th>\n",
       "      <td>0.130000</td>\n",
       "    </tr>\n",
       "    <tr>\n",
       "      <th>max</th>\n",
       "      <td>6.700000</td>\n",
       "    </tr>\n",
       "  </tbody>\n",
       "</table>\n",
       "</div>"
      ],
      "text/plain": [
       "       Precipitation\n",
       "count    2021.000000\n",
       "mean        0.177279\n",
       "std         0.461190\n",
       "min         0.000000\n",
       "25%         0.000000\n",
       "50%         0.020000\n",
       "75%         0.130000\n",
       "max         6.700000"
      ]
     },
     "execution_count": 15,
     "metadata": {},
     "output_type": "execute_result"
    }
   ],
   "source": [
    "# This final step produces a dataframe of summary statistics of the precipitation data.\n",
    "\n",
    "# Apply \"Describe\" on the precipitation dataframe and save into new dataframe.\n",
    "summary_stats_describe = precip_lastyr_df.describe()\n",
    "\n",
    "# Drop irrelevant columns and rename the precipitation field.\n",
    "summary_stats_describe.drop(['id', 'tobs'], axis=1, inplace=True)\n",
    "summary_stats_describe.rename(index=str, columns={\"prcp\": \"Precipitation\"}, inplace=True)\n",
    "\n",
    "# Show Summary Stats table\n",
    "summary_stats_describe"
   ]
  },
  {
   "cell_type": "markdown",
   "metadata": {},
   "source": [
    "### Station Analysis"
   ]
  },
  {
   "cell_type": "code",
   "execution_count": 16,
   "metadata": {},
   "outputs": [
    {
     "name": "stdout",
     "output_type": "stream",
     "text": [
      "Number of stations in dataset: 9\n"
     ]
    }
   ],
   "source": [
    "# For the next part of the analysis, we will analyze specific stations data. The first step is determining how...\n",
    "#...stations there are.\n",
    "\n",
    "# Find the length of the stations dataframe, which represents the number of stations. Print this result.\n",
    "station_count = len(stations_df)\n",
    "print(f\"Number of stations in dataset: {station_count}\")"
   ]
  },
  {
   "cell_type": "code",
   "execution_count": 17,
   "metadata": {},
   "outputs": [
    {
     "data": {
      "text/html": [
       "<div>\n",
       "<style scoped>\n",
       "    .dataframe tbody tr th:only-of-type {\n",
       "        vertical-align: middle;\n",
       "    }\n",
       "\n",
       "    .dataframe tbody tr th {\n",
       "        vertical-align: top;\n",
       "    }\n",
       "\n",
       "    .dataframe thead th {\n",
       "        text-align: right;\n",
       "    }\n",
       "</style>\n",
       "<table border=\"1\" class=\"dataframe\">\n",
       "  <thead>\n",
       "    <tr style=\"text-align: right;\">\n",
       "      <th></th>\n",
       "      <th>id_x</th>\n",
       "      <th>station</th>\n",
       "      <th>date</th>\n",
       "      <th>prcp</th>\n",
       "      <th>tobs</th>\n",
       "      <th>id_y</th>\n",
       "      <th>name</th>\n",
       "      <th>latitude</th>\n",
       "      <th>longitude</th>\n",
       "      <th>elevation</th>\n",
       "    </tr>\n",
       "  </thead>\n",
       "  <tbody>\n",
       "    <tr>\n",
       "      <th>0</th>\n",
       "      <td>19550.0</td>\n",
       "      <td>USC00516128</td>\n",
       "      <td>2017-08-23</td>\n",
       "      <td>0.45</td>\n",
       "      <td>76.0</td>\n",
       "      <td>9</td>\n",
       "      <td>MANOA LYON ARBO 785.2, HI US</td>\n",
       "      <td>21.3331</td>\n",
       "      <td>-157.8025</td>\n",
       "      <td>152.4</td>\n",
       "    </tr>\n",
       "    <tr>\n",
       "      <th>1</th>\n",
       "      <td>19549.0</td>\n",
       "      <td>USC00516128</td>\n",
       "      <td>2017-08-22</td>\n",
       "      <td>0.50</td>\n",
       "      <td>76.0</td>\n",
       "      <td>9</td>\n",
       "      <td>MANOA LYON ARBO 785.2, HI US</td>\n",
       "      <td>21.3331</td>\n",
       "      <td>-157.8025</td>\n",
       "      <td>152.4</td>\n",
       "    </tr>\n",
       "    <tr>\n",
       "      <th>2</th>\n",
       "      <td>19548.0</td>\n",
       "      <td>USC00516128</td>\n",
       "      <td>2017-08-21</td>\n",
       "      <td>0.56</td>\n",
       "      <td>76.0</td>\n",
       "      <td>9</td>\n",
       "      <td>MANOA LYON ARBO 785.2, HI US</td>\n",
       "      <td>21.3331</td>\n",
       "      <td>-157.8025</td>\n",
       "      <td>152.4</td>\n",
       "    </tr>\n",
       "    <tr>\n",
       "      <th>3</th>\n",
       "      <td>19547.0</td>\n",
       "      <td>USC00516128</td>\n",
       "      <td>2017-08-20</td>\n",
       "      <td>NaN</td>\n",
       "      <td>78.0</td>\n",
       "      <td>9</td>\n",
       "      <td>MANOA LYON ARBO 785.2, HI US</td>\n",
       "      <td>21.3331</td>\n",
       "      <td>-157.8025</td>\n",
       "      <td>152.4</td>\n",
       "    </tr>\n",
       "    <tr>\n",
       "      <th>4</th>\n",
       "      <td>19546.0</td>\n",
       "      <td>USC00516128</td>\n",
       "      <td>2017-08-19</td>\n",
       "      <td>0.09</td>\n",
       "      <td>71.0</td>\n",
       "      <td>9</td>\n",
       "      <td>MANOA LYON ARBO 785.2, HI US</td>\n",
       "      <td>21.3331</td>\n",
       "      <td>-157.8025</td>\n",
       "      <td>152.4</td>\n",
       "    </tr>\n",
       "  </tbody>\n",
       "</table>\n",
       "</div>"
      ],
      "text/plain": [
       "      id_x      station       date  prcp  tobs  id_y  \\\n",
       "0  19550.0  USC00516128 2017-08-23  0.45  76.0     9   \n",
       "1  19549.0  USC00516128 2017-08-22  0.50  76.0     9   \n",
       "2  19548.0  USC00516128 2017-08-21  0.56  76.0     9   \n",
       "3  19547.0  USC00516128 2017-08-20   NaN  78.0     9   \n",
       "4  19546.0  USC00516128 2017-08-19  0.09  71.0     9   \n",
       "\n",
       "                           name  latitude  longitude  elevation  \n",
       "0  MANOA LYON ARBO 785.2, HI US   21.3331  -157.8025      152.4  \n",
       "1  MANOA LYON ARBO 785.2, HI US   21.3331  -157.8025      152.4  \n",
       "2  MANOA LYON ARBO 785.2, HI US   21.3331  -157.8025      152.4  \n",
       "3  MANOA LYON ARBO 785.2, HI US   21.3331  -157.8025      152.4  \n",
       "4  MANOA LYON ARBO 785.2, HI US   21.3331  -157.8025      152.4  "
      ]
     },
     "execution_count": 17,
     "metadata": {},
     "output_type": "execute_result"
    }
   ],
   "source": [
    "# Next, we will join the precepitation dataframe (derived from Measurements) with the Stations dataframe so that...\n",
    "#...we have access to all of the measurement data alongside its corresponding station name and attributes.\n",
    "\n",
    "# Perform an outer merge the two dataframes on the \"station\" field.\n",
    "join_df = pd.merge(precip_lastyr_df, stations_df, on='station', how='outer')\n",
    "join_df.head()"
   ]
  },
  {
   "cell_type": "code",
   "execution_count": 18,
   "metadata": {},
   "outputs": [
    {
     "data": {
      "text/html": [
       "<div>\n",
       "<style scoped>\n",
       "    .dataframe tbody tr th:only-of-type {\n",
       "        vertical-align: middle;\n",
       "    }\n",
       "\n",
       "    .dataframe tbody tr th {\n",
       "        vertical-align: top;\n",
       "    }\n",
       "\n",
       "    .dataframe thead th {\n",
       "        text-align: right;\n",
       "    }\n",
       "</style>\n",
       "<table border=\"1\" class=\"dataframe\">\n",
       "  <thead>\n",
       "    <tr style=\"text-align: right;\">\n",
       "      <th></th>\n",
       "      <th>Number of Measurements</th>\n",
       "    </tr>\n",
       "    <tr>\n",
       "      <th>name</th>\n",
       "      <th></th>\n",
       "    </tr>\n",
       "  </thead>\n",
       "  <tbody>\n",
       "    <tr>\n",
       "      <th>WAIKIKI 717.2, HI US</th>\n",
       "      <td>361</td>\n",
       "    </tr>\n",
       "    <tr>\n",
       "      <th>WAIHEE 837.5, HI US</th>\n",
       "      <td>352</td>\n",
       "    </tr>\n",
       "    <tr>\n",
       "      <th>MANOA LYON ARBO 785.2, HI US</th>\n",
       "      <td>349</td>\n",
       "    </tr>\n",
       "    <tr>\n",
       "      <th>KANEOHE 838.1, HI US</th>\n",
       "      <td>343</td>\n",
       "    </tr>\n",
       "    <tr>\n",
       "      <th>WAIMANALO EXPERIMENTAL FARM, HI US</th>\n",
       "      <td>337</td>\n",
       "    </tr>\n",
       "    <tr>\n",
       "      <th>KUALOA RANCH HEADQUARTERS 886.9, HI US</th>\n",
       "      <td>305</td>\n",
       "    </tr>\n",
       "    <tr>\n",
       "      <th>PEARL CITY, HI US</th>\n",
       "      <td>183</td>\n",
       "    </tr>\n",
       "    <tr>\n",
       "      <th>HONOLULU OBSERVATORY 702.2, HI US</th>\n",
       "      <td>0</td>\n",
       "    </tr>\n",
       "    <tr>\n",
       "      <th>UPPER WAHIAWA 874.3, HI US</th>\n",
       "      <td>0</td>\n",
       "    </tr>\n",
       "  </tbody>\n",
       "</table>\n",
       "</div>"
      ],
      "text/plain": [
       "                                        Number of Measurements\n",
       "name                                                          \n",
       "WAIKIKI 717.2, HI US                                       361\n",
       "WAIHEE 837.5, HI US                                        352\n",
       "MANOA LYON ARBO 785.2, HI US                               349\n",
       "KANEOHE 838.1, HI US                                       343\n",
       "WAIMANALO EXPERIMENTAL FARM, HI US                         337\n",
       "KUALOA RANCH HEADQUARTERS 886.9, HI US                     305\n",
       "PEARL CITY, HI US                                          183\n",
       "HONOLULU OBSERVATORY 702.2, HI US                            0\n",
       "UPPER WAHIAWA 874.3, HI US                                   0"
      ]
     },
     "execution_count": 18,
     "metadata": {},
     "output_type": "execute_result"
    }
   ],
   "source": [
    "# With the dataframes joined, next we will calculate the number of measurements at each station using a...\n",
    "#...GroupBy operation.\n",
    "\n",
    "# Groupby the \"name\" field and return the count of records.\n",
    "active_stations = join_df.groupby(\"name\").count()\n",
    "\n",
    "# Rename the final columns, sort by measurements (descending), drop irrelevant columns, and show final table.\n",
    "active_stations_final = active_stations.rename(index=str, columns={\"name\": \"Station Name\", \"id_x\": \"Number of Measurements\"})\n",
    "active_stations_final.sort_values(\"Number of Measurements\", ascending=False, inplace=True)\n",
    "active_stations_final.drop(['date', 'prcp', 'tobs', 'station', 'id_y', 'longitude', 'latitude', 'elevation'], axis=1, inplace=True)\n",
    "active_stations_final.head(9)"
   ]
  },
  {
   "cell_type": "code",
   "execution_count": 19,
   "metadata": {},
   "outputs": [
    {
     "name": "stdout",
     "output_type": "stream",
     "text": [
      "The minimum temperature recorded at WAIKIKI 717.2, HI US is 60.0 degrees fahrenheit.\n",
      "The maximum temperature recorded at WAIKIKI 717.2, HI US is 87.0 degrees fahrenheit.\n",
      "The average temperature recorded at WAIKIKI 717.2, HI US is 75.21052631578948 degrees fahrenheit.\n"
     ]
    }
   ],
   "source": [
    "# The previous analysis shows that \"WAIKIKI 717.2, HI US\" station had the most recorded measurements. Using this...\n",
    "#...station, we will calculate the minimum, maximum, and average temperatures recorded at this site.\n",
    "\n",
    "# Store the first station's data listing from the ordered table (WAIKIKI 717.2, HI US)\n",
    "first_station = active_stations_final.index[0]\n",
    "\n",
    "# Print out the min, max, and mean of the \"tobs\" field from the full dataset WHERE the station name is ...\n",
    "#...WAIKIKI 717.2, HI US.\n",
    "first_station_min = join_df[(join_df[\"name\"] == first_station)][\"tobs\"].min()\n",
    "print(f\"The minimum temperature recorded at {first_station} is {first_station_min} degrees fahrenheit.\")\n",
    "first_station_max = join_df[(join_df[\"name\"] == first_station)][\"tobs\"].max()\n",
    "print(f\"The maximum temperature recorded at {first_station} is {first_station_max} degrees fahrenheit.\")\n",
    "first_station_mean = join_df[(join_df[\"name\"] == first_station)][\"tobs\"].mean()\n",
    "print(f\"The average temperature recorded at {first_station} is {first_station_mean} degrees fahrenheit.\")"
   ]
  },
  {
   "cell_type": "code",
   "execution_count": 38,
   "metadata": {},
   "outputs": [
    {
     "data": {
      "image/png": "[encoded data removed]",
      "text/plain": [
       "<Figure size 432x288 with 1 Axes>"
      ]
     },
     "metadata": {
      "needs_background": "light"
     },
     "output_type": "display_data"
    }
   ],
   "source": [
    "# The final step in the analysis is to create a histogram of the station's temperature data. After filtering...\n",
    "#..from the joined dataframe to select only data from Waikiki station, I then visualize the data in a histogram.\n",
    "\n",
    "# From the last year of data, filter out only data recorded at Station USC00519281 ({first_station}).\n",
    "join_df2 = join_df[join_df[\"name\"] == first_station]\n",
    "join_df2.head()\n",
    "\n",
    "# Create a histogram that charts the frequency of temperatures in data from Waikiki over the last year of data.\n",
    "# Convert the temperature dataframe column into a list and establish 12 bins\n",
    "temps = join_df2[\"tobs\"].tolist()\n",
    "bins = 12\n",
    "\n",
    "# Create the histogram and set parameters.\n",
    "plt.hist(temps,bins)\n",
    "plt.legend(\"tobs\", loc='best')\n",
    "plt.xlabel(\"Temperature\")\n",
    "plt.ylabel(\"Frequency\")\n",
    "plt.show()\n"
   ]
  }
 ],
 "metadata": {
  "kernel_info": {
   "name": "python3"
  },
  "kernelspec": {
   "display_name": "Python 3",
   "language": "python",
   "name": "python3"
  },
  "language_info": {
   "codemirror_mode": {
    "name": "ipython",
    "version": 3
   },
   "file_extension": ".py",
   "mimetype": "text/x-python",
   "name": "python",
   "nbconvert_exporter": "python",
   "pygments_lexer": "ipython3",
   "version": "3.6.8"
  },
  "nteract": {
   "version": "0.9.1"
  },
  "varInspector": {
   "cols": {
    "lenName": 16,
    "lenType": 16,
    "lenVar": 40
   },
   "kernels_config": {
    "python": {
     "delete_cmd_postfix": "",
     "delete_cmd_prefix": "del ",
     "library": "var_list.py",
     "varRefreshCmd": "print(var_dic_list())"
    },
    "r": {
     "delete_cmd_postfix": ") ",
     "delete_cmd_prefix": "rm(",
     "library": "var_list.r",
     "varRefreshCmd": "cat(var_dic_list()) "
    }
   },
   "types_to_exclude": [
    "module",
    "function",
    "builtin_function_or_method",
    "instance",
    "_Feature"
   ],
   "window_display": false
  }
 },
 "nbformat": 4,
 "nbformat_minor": 2
}
